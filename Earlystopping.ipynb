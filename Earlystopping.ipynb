{
 "cells": [
  {
   "cell_type": "markdown",
   "metadata": {},
   "source": [
    " ValidationMonitor (Deprecated)"
   ]
  },
  {
   "cell_type": "markdown",
   "metadata": {},
   "source": [
    "In tensorflow, we can use a ValidationMonitor with tf.contrib.learn to not only monitor the progress of training, but to also stop the training when certain conditions are met.\n",
    "\n",
    "The following example from the ValidationMonitor documentation shows how to set it up. Note that the last three parameters indicate which metric we're optimizing."
   ]
  },
  {
   "cell_type": "code",
   "execution_count": null,
   "metadata": {},
   "outputs": [],
   "source": [
    "validation_monitor = tf.contrib.learn.monitors.ValidationMonitor(\n",
    "  test_set.data,\n",
    "  test_set.target,\n",
    "  every_n_steps=50,\n",
    "  metrics=validation_metrics,\n",
    "  early_stopping_metric=\"loss\",\n",
    "  early_stopping_metric_minimize=True,\n",
    "  early_stopping_rounds=200)"
   ]
  },
  {
   "cell_type": "markdown",
   "metadata": {},
   "source": [
    "The last parameter indicates to ValidationMonitor that it should stop the training process if the loss did not decrease in 200 steps (rounds) of training.\n",
    "\n",
    "The validation_monitor is then passed to tf.contrib.learn's \"fit\" method which runs the training process:"
   ]
  },
  {
   "cell_type": "code",
   "execution_count": null,
   "metadata": {},
   "outputs": [],
   "source": [
    "classifier = tf.contrib.learn.DNNClassifier(\n",
    "  feature_columns=feature_columns,\n",
    "  hidden_units=[10, 20, 10],\n",
    "  n_classes=3,\n",
    "  model_dir=\"/tmp/iris_model\",\n",
    "  config=tf.contrib.learn.RunConfig(save_checkpoints_secs=1))\n",
    "\n",
    "classifier.fit(x=training_set.data,\n",
    "           y=training_set.target,\n",
    "           steps=2000,\n",
    "           monitors=[validation_monitor])"
   ]
  },
  {
   "cell_type": "markdown",
   "metadata": {},
   "source": [
    "SessionRunHook\n",
    "\n",
    "More recent versions of TensorFlow deprecated monitors in favor of SessionRunHooks. SessionRunHooks are an evolving part of tf.train, and going forward appear to be the proper place where you'd implement early stopping.\n",
    "\n",
    "At the time of writing, two pre-defined stopping monitors exist as a part of tf.train's training hooks:\n",
    "\n",
    "StopAtStepHook: A monitor to request the training stop after a certain number of steps\n",
    "NanTensorHook: a monitor that monitor's loss and stops training if it encounters a NaN loss"
   ]
  },
  {
   "cell_type": "code",
   "execution_count": null,
   "metadata": {},
   "outputs": [],
   "source": []
  }
 ],
 "metadata": {
  "kernelspec": {
   "display_name": "Python 3",
   "language": "python",
   "name": "python3"
  },
  "language_info": {
   "codemirror_mode": {
    "name": "ipython",
    "version": 3
   },
   "file_extension": ".py",
   "mimetype": "text/x-python",
   "name": "python",
   "nbconvert_exporter": "python",
   "pygments_lexer": "ipython3",
   "version": "3.6.4"
  }
 },
 "nbformat": 4,
 "nbformat_minor": 2
}
