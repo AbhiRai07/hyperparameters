{
 "cells": [
  {
   "cell_type": "markdown",
   "metadata": {},
   "source": [
    "tf.train.exponential_decay"
   ]
  },
  {
   "cell_type": "code",
   "execution_count": null,
   "metadata": {},
   "outputs": [],
   "source": [
    "tf.train.exponential_decay(\n",
    "    learning_rate,\n",
    "    global_step,\n",
    "    decay_steps,\n",
    "    decay_rate,\n",
    "    staircase=False,\n",
    "    name=None\n",
    ")"
   ]
  },
  {
   "cell_type": "markdown",
   "metadata": {},
   "source": [
    "Defined in tensorflow/python/training/learning_rate_decay.py.\n",
    "\n",
    "See the guide: Training > Decaying the learning rate\n",
    "\n",
    "Applies exponential decay to the learning rate.\n",
    "\n",
    "When training a model, it is often recommended to lower the learning rate as the training progresses. This function applies an exponential decay function to a provided initial learning rate. It requires a global_step value to compute the decayed learning rate. You can just pass a TensorFlow variable that you increment at each training step.\n",
    "\n",
    "The function returns the decayed learning rate. It is computed as:"
   ]
  },
  {
   "cell_type": "code",
   "execution_count": null,
   "metadata": {},
   "outputs": [],
   "source": [
    "decayed_learning_rate = learning_rate *\n",
    "                        decay_rate ^ (global_step / decay_steps)"
   ]
  },
  {
   "cell_type": "markdown",
   "metadata": {},
   "source": [
    "If the argument staircase is True, then global_step / decay_steps is an integer division and the decayed learning rate follows a staircase function.\n",
    "\n",
    "Example: decay every 100000 steps with a base of 0.96:"
   ]
  },
  {
   "cell_type": "code",
   "execution_count": null,
   "metadata": {},
   "outputs": [],
   "source": [
    "...\n",
    "global_step = tf.Variable(0, trainable=False)\n",
    "starter_learning_rate = 0.1\n",
    "learning_rate = tf.train.exponential_decay(starter_learning_rate, global_step,\n",
    "                                           100000, 0.96, staircase=True)\n",
    "# Passing global_step to minimize() will increment it at each step.\n",
    "learning_step = (\n",
    "    tf.train.GradientDescentOptimizer(learning_rate)\n",
    "    .minimize(...my loss..., global_step=global_step)\n",
    ")"
   ]
  },
  {
   "cell_type": "markdown",
   "metadata": {},
   "source": [
    "Args:\n",
    "learning_rate: A scalar float32 or float64 Tensor or a Python number. The initial learning rate.\n",
    "global_step: A scalar int32 or int64 Tensor or a Python number. Global step to use for the decay computation. Must not be negative.\n",
    "decay_steps: A scalar int32 or int64 Tensor or a Python number. Must be positive. See the decay computation above.\n",
    "decay_rate: A scalar float32 or float64 Tensor or a Python number. The decay rate.\n",
    "staircase: Boolean. If True decay the learning rate at discrete intervals\n",
    "name: String. Optional name of the operation. Defaults to 'ExponentialDecay'.\n",
    "Returns:\n",
    "A scalar Tensor of the same type as learning_rate. The decayed learning rate.\n",
    "\n",
    "Raises:\n",
    "ValueError: if global_step is not supplied."
   ]
  },
  {
   "cell_type": "code",
   "execution_count": null,
   "metadata": {},
   "outputs": [],
   "source": []
  }
 ],
 "metadata": {
  "kernelspec": {
   "display_name": "Python 3",
   "language": "python",
   "name": "python3"
  },
  "language_info": {
   "codemirror_mode": {
    "name": "ipython",
    "version": 3
   },
   "file_extension": ".py",
   "mimetype": "text/x-python",
   "name": "python",
   "nbconvert_exporter": "python",
   "pygments_lexer": "ipython3",
   "version": "3.6.4"
  }
 },
 "nbformat": 4,
 "nbformat_minor": 2
}
